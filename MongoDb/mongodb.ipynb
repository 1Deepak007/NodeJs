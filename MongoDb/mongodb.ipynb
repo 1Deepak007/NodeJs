{
 "cells": [
  {
   "cell_type": "code",
   "execution_count": 2,
   "metadata": {
    "vscode": {
     "languageId": "shellscript"
    }
   },
   "outputs": [
    {
     "name": "stdout",
     "output_type": "stream",
     "text": [
      "Collecting pymongo\n",
      "  Downloading pymongo-4.10.1-cp311-cp311-win_amd64.whl.metadata (22 kB)\n",
      "Collecting dnspython<3.0.0,>=1.16.0 (from pymongo)\n",
      "  Downloading dnspython-2.7.0-py3-none-any.whl.metadata (5.8 kB)\n",
      "Downloading pymongo-4.10.1-cp311-cp311-win_amd64.whl (876 kB)\n",
      "   ---------------------------------------- 0.0/876.5 kB ? eta -:--:--\n",
      "   ----------- ---------------------------- 262.1/876.5 kB ? eta -:--:--\n",
      "   ---------------------------------------- 876.5/876.5 kB 3.3 MB/s eta 0:00:00\n",
      "Downloading dnspython-2.7.0-py3-none-any.whl (313 kB)\n",
      "Installing collected packages: dnspython, pymongo\n",
      "Successfully installed dnspython-2.7.0 pymongo-4.10.1\n"
     ]
    }
   ],
   "source": [
    "# !pip install pymongo"
   ]
  },
  {
   "cell_type": "code",
   "execution_count": 227,
   "metadata": {
    "vscode": {
     "languageId": "shellscript"
    }
   },
   "outputs": [
    {
     "data": {
      "text/plain": [
       "['admin', 'config', 'local']"
      ]
     },
     "execution_count": 227,
     "metadata": {},
     "output_type": "execute_result"
    }
   ],
   "source": [
    "import pymongo\n",
    "\n",
    "# Connect to MongoDB\n",
    "client = pymongo.MongoClient(\"mongodb://localhost:27017/\")\n",
    "\n",
    "# List all databases\n",
    "client.list_database_names()"
   ]
  },
  {
   "cell_type": "code",
   "execution_count": 229,
   "metadata": {
    "vscode": {
     "languageId": "shellscript"
    }
   },
   "outputs": [],
   "source": [
    "# Select the database\n",
    "db = client[\"pythonmongodb\"]"
   ]
  },
  {
   "cell_type": "code",
   "execution_count": 230,
   "metadata": {
    "vscode": {
     "languageId": "shellscript"
    }
   },
   "outputs": [
    {
     "data": {
      "text/plain": [
       "Collection(Database(MongoClient(host=['localhost:27017'], document_class=dict, tz_aware=False, connect=True), 'pythonmongodb'), 'students')"
      ]
     },
     "execution_count": 230,
     "metadata": {},
     "output_type": "execute_result"
    }
   ],
   "source": [
    "# creating collection\n",
    "db.create_collection(\"students\")"
   ]
  },
  {
   "cell_type": "code",
   "execution_count": 231,
   "metadata": {
    "vscode": {
     "languageId": "shellscript"
    }
   },
   "outputs": [
    {
     "data": {
      "text/plain": [
       "['students']"
      ]
     },
     "execution_count": 231,
     "metadata": {},
     "output_type": "execute_result"
    }
   ],
   "source": [
    "# Check the current database collections\n",
    "db.list_collection_names()"
   ]
  },
  {
   "cell_type": "code",
   "execution_count": 232,
   "metadata": {
    "vscode": {
     "languageId": "shellscript"
    }
   },
   "outputs": [
    {
     "data": {
      "text/plain": [
       "Collection(Database(MongoClient(host=['localhost:27017'], document_class=dict, tz_aware=False, connect=True), 'pythonmongodb'), 'students')"
      ]
     },
     "execution_count": 232,
     "metadata": {},
     "output_type": "execute_result"
    }
   ],
   "source": [
    "# Select a collection (like a table in SQL)\n",
    "collection = db[\"students\"]\n",
    "collection"
   ]
  },
  {
   "cell_type": "code",
   "execution_count": 233,
   "metadata": {
    "vscode": {
     "languageId": "shellscript"
    }
   },
   "outputs": [
    {
     "data": {
      "text/plain": [
       "InsertOneResult(ObjectId('67101137ce75d70ae756b570'), acknowledged=True)"
      ]
     },
     "execution_count": 233,
     "metadata": {},
     "output_type": "execute_result"
    }
   ],
   "source": [
    "# Insert a document (record)\n",
    "document = { \"name\": \"Alice\", \"age\": '25', \"city\": \"New York\" }\n",
    "collection.insert_one(document)"
   ]
  },
  {
   "cell_type": "code",
   "execution_count": 234,
   "metadata": {
    "vscode": {
     "languageId": "shellscript"
    }
   },
   "outputs": [
    {
     "data": {
      "text/plain": [
       "InsertManyResult([ObjectId('67101137ce75d70ae756b571'), ObjectId('67101137ce75d70ae756b572')], acknowledged=True)"
      ]
     },
     "execution_count": 234,
     "metadata": {},
     "output_type": "execute_result"
    }
   ],
   "source": [
    "# Insert multiple records \n",
    "documents = [\n",
    "    { \"name\": \"Bob\", \"age\": '30', \"city\": \"San Francisco\" },\n",
    "    { \"name\": \"Charlie\", \"age\": '35', \"city\": \"Los Angeles\" }\n",
    "]\n",
    "collection.insert_many(documents)"
   ]
  },
  {
   "cell_type": "code",
   "execution_count": 235,
   "metadata": {
    "vscode": {
     "languageId": "shellscript"
    }
   },
   "outputs": [
    {
     "name": "stdout",
     "output_type": "stream",
     "text": [
      "{'_id': ObjectId('67101137ce75d70ae756b570'), 'name': 'Alice', 'age': '25', 'city': 'New York'}\n",
      "{'_id': ObjectId('67101137ce75d70ae756b571'), 'name': 'Bob', 'age': '30', 'city': 'San Francisco'}\n",
      "{'_id': ObjectId('67101137ce75d70ae756b572'), 'name': 'Charlie', 'age': '35', 'city': 'Los Angeles'}\n"
     ]
    }
   ],
   "source": [
    "# Read (Query) Data: Retrieve all documents from a collection.\n",
    "# Find all documents in the students collection\n",
    "for student in collection.find():\n",
    "    print(student)"
   ]
  },
  {
   "cell_type": "code",
   "execution_count": 236,
   "metadata": {
    "vscode": {
     "languageId": "shellscript"
    }
   },
   "outputs": [
    {
     "name": "stdout",
     "output_type": "stream",
     "text": [
      "{'_id': ObjectId('67101137ce75d70ae756b570'), 'name': 'Alice', 'age': '25', 'city': 'New York'}\n"
     ]
    }
   ],
   "source": [
    "# Retrieve documents with a specific condition:\n",
    "# Find documents where the name is 'Alice'\n",
    "for doc in collection.find({ \"name\": \"Alice\" }):\n",
    "    print(doc)"
   ]
  },
  {
   "cell_type": "code",
   "execution_count": 237,
   "metadata": {
    "vscode": {
     "languageId": "shellscript"
    }
   },
   "outputs": [
    {
     "data": {
      "text/plain": [
       "UpdateResult({'n': 1, 'nModified': 1, 'ok': 1.0, 'updatedExisting': True}, acknowledged=True)"
      ]
     },
     "execution_count": 237,
     "metadata": {},
     "output_type": "execute_result"
    }
   ],
   "source": [
    "# Update one document\n",
    "collection.update_one({ \"name\": \"Alice\" }, { \"$set\": { \"age\": '26' } })"
   ]
  },
  {
   "cell_type": "code",
   "execution_count": 238,
   "metadata": {
    "vscode": {
     "languageId": "shellscript"
    }
   },
   "outputs": [
    {
     "data": {
      "text/plain": [
       "UpdateResult({'n': 1, 'nModified': 1, 'ok': 1.0, 'updatedExisting': True}, acknowledged=True)"
      ]
     },
     "execution_count": 238,
     "metadata": {},
     "output_type": "execute_result"
    }
   ],
   "source": [
    "# Update multiple documents\n",
    "collection.update_many({ \"city\": \"New York\" }, { \"$set\": { \"city\": \"NYC\" } })"
   ]
  },
  {
   "cell_type": "code",
   "execution_count": 239,
   "metadata": {
    "vscode": {
     "languageId": "shellscript"
    }
   },
   "outputs": [
    {
     "data": {
      "text/plain": [
       "InsertManyResult([ObjectId('67101137ce75d70ae756b573'), ObjectId('67101137ce75d70ae756b574')], acknowledged=True)"
      ]
     },
     "execution_count": 239,
     "metadata": {},
     "output_type": "execute_result"
    }
   ],
   "source": [
    "documents = [\n",
    "    { \"name\": \"Johnny\", \"age\": '30', \"city\": \"San Francisco\" },\n",
    "    { \"name\": \"Jimmy\", \"age\": '35', \"city\": \"Los Angeles\" }\n",
    "]\n",
    "collection.insert_many(documents)"
   ]
  },
  {
   "cell_type": "code",
   "execution_count": 240,
   "metadata": {
    "vscode": {
     "languageId": "shellscript"
    }
   },
   "outputs": [
    {
     "name": "stdout",
     "output_type": "stream",
     "text": [
      "{'_id': ObjectId('67101137ce75d70ae756b570'), 'name': 'Alice', 'age': '26', 'city': 'NYC'}\n",
      "{'_id': ObjectId('67101137ce75d70ae756b571'), 'name': 'Bob', 'age': '30', 'city': 'San Francisco'}\n",
      "{'_id': ObjectId('67101137ce75d70ae756b572'), 'name': 'Charlie', 'age': '35', 'city': 'Los Angeles'}\n",
      "{'_id': ObjectId('67101137ce75d70ae756b573'), 'name': 'Johnny', 'age': '30', 'city': 'San Francisco'}\n",
      "{'_id': ObjectId('67101137ce75d70ae756b574'), 'name': 'Jimmy', 'age': '35', 'city': 'Los Angeles'}\n"
     ]
    }
   ],
   "source": [
    "for student in collection.find():\n",
    "    print(student)"
   ]
  },
  {
   "cell_type": "code",
   "execution_count": 241,
   "metadata": {
    "vscode": {
     "languageId": "shellscript"
    }
   },
   "outputs": [
    {
     "data": {
      "text/plain": [
       "DeleteResult({'n': 1, 'ok': 1.0}, acknowledged=True)"
      ]
     },
     "execution_count": 241,
     "metadata": {},
     "output_type": "execute_result"
    }
   ],
   "source": [
    "# Delete one record\n",
    "collection.delete_one({ \"name\": \"Alice\" })"
   ]
  },
  {
   "cell_type": "code",
   "execution_count": 242,
   "metadata": {
    "vscode": {
     "languageId": "shellscript"
    }
   },
   "outputs": [
    {
     "data": {
      "text/plain": [
       "InsertManyResult([ObjectId('67101138ce75d70ae756b575'), ObjectId('67101138ce75d70ae756b576')], acknowledged=True)"
      ]
     },
     "execution_count": 242,
     "metadata": {},
     "output_type": "execute_result"
    }
   ],
   "source": [
    "documents = [\n",
    "    { \"name\": \"Harry\", \"age\": '33', \"city\": \"San Francisco\" },\n",
    "    { \"name\": \"Ketty\", \"age\": '332', \"city\": \"Los Angeles\" }\n",
    "]\n",
    "collection.insert_many(documents)"
   ]
  },
  {
   "cell_type": "code",
   "execution_count": 243,
   "metadata": {
    "vscode": {
     "languageId": "shellscript"
    }
   },
   "outputs": [
    {
     "name": "stdout",
     "output_type": "stream",
     "text": [
      "{'_id': ObjectId('67101137ce75d70ae756b571'), 'name': 'Bob', 'age': '30', 'city': 'San Francisco'}\n",
      "{'_id': ObjectId('67101137ce75d70ae756b572'), 'name': 'Charlie', 'age': '35', 'city': 'Los Angeles'}\n",
      "{'_id': ObjectId('67101137ce75d70ae756b573'), 'name': 'Johnny', 'age': '30', 'city': 'San Francisco'}\n",
      "{'_id': ObjectId('67101137ce75d70ae756b574'), 'name': 'Jimmy', 'age': '35', 'city': 'Los Angeles'}\n",
      "{'_id': ObjectId('67101138ce75d70ae756b575'), 'name': 'Harry', 'age': '33', 'city': 'San Francisco'}\n",
      "{'_id': ObjectId('67101138ce75d70ae756b576'), 'name': 'Ketty', 'age': '332', 'city': 'Los Angeles'}\n"
     ]
    }
   ],
   "source": [
    "for student in collection.find():\n",
    "    print(student)"
   ]
  },
  {
   "cell_type": "code",
   "execution_count": 244,
   "metadata": {
    "vscode": {
     "languageId": "shellscript"
    }
   },
   "outputs": [
    {
     "data": {
      "text/plain": [
       "DeleteResult({'n': 0, 'ok': 1.0}, acknowledged=True)"
      ]
     },
     "execution_count": 244,
     "metadata": {},
     "output_type": "execute_result"
    }
   ],
   "source": [
    "# Delete multiple documents from a collection where the age field is greater than or equal to 34.\n",
    "collection.delete_many({ \"age\": { \"$gte\": 34 } })"
   ]
  },
  {
   "cell_type": "code",
   "execution_count": 245,
   "metadata": {
    "vscode": {
     "languageId": "shellscript"
    }
   },
   "outputs": [
    {
     "name": "stdout",
     "output_type": "stream",
     "text": [
      "{'_id': ObjectId('67101137ce75d70ae756b571'), 'name': 'Bob', 'age': '30', 'city': 'San Francisco'}\n",
      "{'_id': ObjectId('67101137ce75d70ae756b572'), 'name': 'Charlie', 'age': '35', 'city': 'Los Angeles'}\n",
      "{'_id': ObjectId('67101137ce75d70ae756b573'), 'name': 'Johnny', 'age': '30', 'city': 'San Francisco'}\n",
      "{'_id': ObjectId('67101137ce75d70ae756b574'), 'name': 'Jimmy', 'age': '35', 'city': 'Los Angeles'}\n",
      "{'_id': ObjectId('67101138ce75d70ae756b575'), 'name': 'Harry', 'age': '33', 'city': 'San Francisco'}\n",
      "{'_id': ObjectId('67101138ce75d70ae756b576'), 'name': 'Ketty', 'age': '332', 'city': 'Los Angeles'}\n"
     ]
    }
   ],
   "source": [
    "for student in collection.find():\n",
    "    print(student)"
   ]
  },
  {
   "cell_type": "code",
   "execution_count": 246,
   "metadata": {
    "vscode": {
     "languageId": "shellscript"
    }
   },
   "outputs": [],
   "source": [
    "# Drop a Collection: If you want to delete a collection from the database\n",
    "\n",
    "# collection.drop()"
   ]
  },
  {
   "cell_type": "code",
   "execution_count": 247,
   "metadata": {
    "vscode": {
     "languageId": "shellscript"
    }
   },
   "outputs": [],
   "source": [
    "data = [\n",
    "    { \"name\":'Sunny', \"age\":'30', \"city\":'Lucknow' },\n",
    "    { \"name\":'Pawan', \"age\":'38', \"city\":'Pune' },\n",
    "    { \"name\":'Khushboo', \"age\":'25', \"city\":'Banglore' },\n",
    "    { \"name\":'Deepak', \"age\":'27', \"city\":'Pune' },\n",
    "    { \"name\":'Rohit', \"age\":'27', \"city\":'Lucknow' },\n",
    "];\n",
    "\n",
    "collection.insert_many(data);"
   ]
  },
  {
   "cell_type": "code",
   "execution_count": 248,
   "metadata": {
    "vscode": {
     "languageId": "shellscript"
    }
   },
   "outputs": [
    {
     "name": "stdout",
     "output_type": "stream",
     "text": [
      "{'_id': ObjectId('67101137ce75d70ae756b571'), 'name': 'Bob', 'age': '30', 'city': 'San Francisco'}\n",
      "{'_id': ObjectId('67101137ce75d70ae756b572'), 'name': 'Charlie', 'age': '35', 'city': 'Los Angeles'}\n",
      "{'_id': ObjectId('67101137ce75d70ae756b573'), 'name': 'Johnny', 'age': '30', 'city': 'San Francisco'}\n",
      "{'_id': ObjectId('67101137ce75d70ae756b574'), 'name': 'Jimmy', 'age': '35', 'city': 'Los Angeles'}\n",
      "{'_id': ObjectId('67101138ce75d70ae756b575'), 'name': 'Harry', 'age': '33', 'city': 'San Francisco'}\n",
      "{'_id': ObjectId('67101138ce75d70ae756b576'), 'name': 'Ketty', 'age': '332', 'city': 'Los Angeles'}\n",
      "{'_id': ObjectId('67101138ce75d70ae756b577'), 'name': 'Sunny', 'age': '30', 'city': 'Lucknow'}\n",
      "{'_id': ObjectId('67101138ce75d70ae756b578'), 'name': 'Pawan', 'age': '38', 'city': 'Pune'}\n",
      "{'_id': ObjectId('67101138ce75d70ae756b579'), 'name': 'Khushboo', 'age': '25', 'city': 'Banglore'}\n",
      "{'_id': ObjectId('67101138ce75d70ae756b57a'), 'name': 'Deepak', 'age': '27', 'city': 'Pune'}\n",
      "{'_id': ObjectId('67101138ce75d70ae756b57b'), 'name': 'Rohit', 'age': '27', 'city': 'Lucknow'}\n"
     ]
    }
   ],
   "source": [
    "for student in collection.find():\n",
    "    print(student)"
   ]
  },
  {
   "cell_type": "code",
   "execution_count": 249,
   "metadata": {
    "vscode": {
     "languageId": "shellscript"
    }
   },
   "outputs": [
    {
     "name": "stdout",
     "output_type": "stream",
     "text": [
      "{'_id': 'San Francisco', 'count': 3}\n",
      "{'_id': 'Pune', 'count': 2}\n",
      "{'_id': 'Banglore', 'count': 1}\n",
      "{'_id': 'Lucknow', 'count': 2}\n",
      "{'_id': 'Los Angeles', 'count': 3}\n"
     ]
    }
   ],
   "source": [
    "# Aggregation : Group by\n",
    "\n",
    "# Group by city and count the number of people\n",
    "pipeline = [\n",
    "    { \"$group\": { \"_id\": \"$city\", \"count\": { \"$sum\": 1 } } }\n",
    "]\n",
    "\n",
    "for result in collection.aggregate(pipeline):\n",
    "    print(result)"
   ]
  },
  {
   "cell_type": "code",
   "execution_count": 250,
   "metadata": {
    "vscode": {
     "languageId": "shellscript"
    }
   },
   "outputs": [],
   "source": [
    "# In MongoDB, there isn't a direct equivalent of SQL joins because MongoDB is a NoSQL database that operates with a flexible document model rather than rigid table-based relations. However, MongoDB provides the $lookup aggregation stage, which performs operations similar to SQL joins by combining data from different collections."
   ]
  },
  {
   "cell_type": "code",
   "execution_count": 251,
   "metadata": {
    "vscode": {
     "languageId": "shellscript"
    }
   },
   "outputs": [],
   "source": [
    "#=============================>  Where Clause (find)\n",
    "\n",
    "# In SQL, you use WHERE to filter results. In MongoDB, the find() method serves a similar purpose.\n",
    "\n",
    "# sql\n",
    "# SELECT * FROM users WHERE age > 27;\n",
    "\n",
    "result = db.students.find({ \"age\": { \"$gt\": 27 } })\n",
    "\n",
    "# Iterate over the cursor and print each document\n",
    "for document in result:\n",
    "    print(document)"
   ]
  },
  {
   "cell_type": "code",
   "execution_count": 252,
   "metadata": {
    "vscode": {
     "languageId": "shellscript"
    }
   },
   "outputs": [
    {
     "name": "stdout",
     "output_type": "stream",
     "text": [
      "{'_id': ObjectId('67101137ce75d70ae756b570'), 'name': 'Alice', 'age': '25', 'city': 'New York'}\n"
     ]
    }
   ],
   "source": [
    "#=============================>  Select Clause (find with projection)\n",
    "\n",
    "# SELECT name, age FROM users;           // in sql\n",
    "\n",
    "res = db.stidents.find({}, { \"name\": \"bob\"})     # in mdb\n",
    "\n",
    "print(doc)"
   ]
  },
  {
   "cell_type": "code",
   "execution_count": 253,
   "metadata": {
    "vscode": {
     "languageId": "shellscript"
    }
   },
   "outputs": [
    {
     "name": "stdout",
     "output_type": "stream",
     "text": [
      "{'_id': ObjectId('67101137ce75d70ae756b571'), 'name': 'Bob', 'age': '30', 'city': 'San Francisco'}\n",
      "{'_id': ObjectId('67101137ce75d70ae756b572'), 'name': 'Charlie', 'age': '35', 'city': 'Los Angeles'}\n",
      "{'_id': ObjectId('67101137ce75d70ae756b573'), 'name': 'Johnny', 'age': '30', 'city': 'San Francisco'}\n",
      "{'_id': ObjectId('67101137ce75d70ae756b574'), 'name': 'Jimmy', 'age': '35', 'city': 'Los Angeles'}\n"
     ]
    }
   ],
   "source": [
    "#=============================>  Limit Clause (limit) \n",
    "# SQL’s LIMIT restricts the number of rows returned. MongoDB uses limit().\n",
    "\n",
    "# SELECT * FROM users LIMIT 5;          // in sql\n",
    "\n",
    "result = db.students.find().limit(4)\n",
    "\n",
    "for res in result:\n",
    "    print(res)"
   ]
  },
  {
   "cell_type": "code",
   "execution_count": 254,
   "metadata": {
    "vscode": {
     "languageId": "shellscript"
    }
   },
   "outputs": [
    {
     "name": "stdout",
     "output_type": "stream",
     "text": [
      "{'_id': ObjectId('67101138ce75d70ae756b578'), 'name': 'Pawan', 'age': '38', 'city': 'Pune'}\n",
      "{'_id': ObjectId('67101137ce75d70ae756b572'), 'name': 'Charlie', 'age': '35', 'city': 'Los Angeles'}\n",
      "{'_id': ObjectId('67101137ce75d70ae756b574'), 'name': 'Jimmy', 'age': '35', 'city': 'Los Angeles'}\n",
      "{'_id': ObjectId('67101138ce75d70ae756b576'), 'name': 'Ketty', 'age': '332', 'city': 'Los Angeles'}\n",
      "{'_id': ObjectId('67101138ce75d70ae756b575'), 'name': 'Harry', 'age': '33', 'city': 'San Francisco'}\n",
      "{'_id': ObjectId('67101137ce75d70ae756b571'), 'name': 'Bob', 'age': '30', 'city': 'San Francisco'}\n",
      "{'_id': ObjectId('67101137ce75d70ae756b573'), 'name': 'Johnny', 'age': '30', 'city': 'San Francisco'}\n",
      "{'_id': ObjectId('67101138ce75d70ae756b577'), 'name': 'Sunny', 'age': '30', 'city': 'Lucknow'}\n",
      "{'_id': ObjectId('67101138ce75d70ae756b57a'), 'name': 'Deepak', 'age': '27', 'city': 'Pune'}\n",
      "{'_id': ObjectId('67101138ce75d70ae756b57b'), 'name': 'Rohit', 'age': '27', 'city': 'Lucknow'}\n",
      "{'_id': ObjectId('67101138ce75d70ae756b579'), 'name': 'Khushboo', 'age': '25', 'city': 'Banglore'}\n"
     ]
    }
   ],
   "source": [
    "# ============================>  Sort Clause (sort)\n",
    "# SQL’s ORDER BY sorts the results. MongoDB uses sort()\n",
    "\n",
    "# SELECT * FROM users ORDER BY age DESC;        // SQL\n",
    "\n",
    "result = db.students.find().sort(\"age\", pymongo.DESCENDING)\n",
    "\n",
    "for res in result:\n",
    "    print(res)"
   ]
  },
  {
   "cell_type": "code",
   "execution_count": 255,
   "metadata": {
    "vscode": {
     "languageId": "shellscript"
    }
   },
   "outputs": [
    {
     "name": "stdout",
     "output_type": "stream",
     "text": [
      "{'_id': ObjectId('67101138ce75d70ae756b579'), 'name': 'Khushboo', 'age': '25', 'city': 'Banglore'}\n",
      "{'_id': ObjectId('67101138ce75d70ae756b57a'), 'name': 'Deepak', 'age': '27', 'city': 'Pune'}\n",
      "{'_id': ObjectId('67101138ce75d70ae756b57b'), 'name': 'Rohit', 'age': '27', 'city': 'Lucknow'}\n",
      "{'_id': ObjectId('67101137ce75d70ae756b571'), 'name': 'Bob', 'age': '30', 'city': 'San Francisco'}\n",
      "{'_id': ObjectId('67101137ce75d70ae756b573'), 'name': 'Johnny', 'age': '30', 'city': 'San Francisco'}\n",
      "{'_id': ObjectId('67101138ce75d70ae756b577'), 'name': 'Sunny', 'age': '30', 'city': 'Lucknow'}\n",
      "{'_id': ObjectId('67101138ce75d70ae756b575'), 'name': 'Harry', 'age': '33', 'city': 'San Francisco'}\n",
      "{'_id': ObjectId('67101138ce75d70ae756b576'), 'name': 'Ketty', 'age': '332', 'city': 'Los Angeles'}\n",
      "{'_id': ObjectId('67101137ce75d70ae756b572'), 'name': 'Charlie', 'age': '35', 'city': 'Los Angeles'}\n",
      "{'_id': ObjectId('67101137ce75d70ae756b574'), 'name': 'Jimmy', 'age': '35', 'city': 'Los Angeles'}\n",
      "{'_id': ObjectId('67101138ce75d70ae756b578'), 'name': 'Pawan', 'age': '38', 'city': 'Pune'}\n"
     ]
    }
   ],
   "source": [
    "result = db.students.find().sort(\"age\", pymongo.ASCENDING)\n",
    "\n",
    "for res in result:\n",
    "    print(res)"
   ]
  },
  {
   "cell_type": "code",
   "execution_count": 256,
   "metadata": {
    "vscode": {
     "languageId": "shellscript"
    }
   },
   "outputs": [
    {
     "name": "stdout",
     "output_type": "stream",
     "text": [
      "3\n"
     ]
    }
   ],
   "source": [
    "# ============================>  Count Clause (countDocuments)    \n",
    "# SQL’s COUNT counts the rows. MongoDB uses countDocuments().\n",
    "\n",
    "# SELECT COUNT(*) FROM users;        // sql\n",
    "\n",
    "result = db.students.count_documents({\"age\": \"30\"})  # Count documents where age is 30\n",
    "print(result)"
   ]
  },
  {
   "cell_type": "code",
   "execution_count": 257,
   "metadata": {
    "vscode": {
     "languageId": "shellscript"
    }
   },
   "outputs": [
    {
     "name": "stdout",
     "output_type": "stream",
     "text": [
      "{'_id': 'Los Angeles', 'count': 3}\n",
      "{'_id': 'Pune', 'count': 2}\n",
      "{'_id': 'Banglore', 'count': 1}\n",
      "{'_id': 'Lucknow', 'count': 2}\n",
      "{'_id': 'San Francisco', 'count': 3}\n"
     ]
    }
   ],
   "source": [
    "# =============================> Group By Clause ($group in Aggregation)\n",
    "\n",
    "result = db.students.aggregate([\n",
    "    { \"$group\": { \"_id\": \"$city\", \"count\": { \"$sum\": 1 } } }\n",
    "])\n",
    "\n",
    "for res in result:\n",
    "    print(res)"
   ]
  },
  {
   "cell_type": "code",
   "execution_count": 258,
   "metadata": {
    "vscode": {
     "languageId": "shellscript"
    }
   },
   "outputs": [],
   "source": [
    "#==============================> MongoDB Equivalent of SQL Joins: Using $lookup\n",
    "# The $lookup operator is used to join documents from two collections, which is conceptually similar to a SQL JOIN.\n",
    "\n",
    "# Create collections\n",
    "users_collection = db[\"users\"]\n",
    "orders_collection = db[\"orders\"]"
   ]
  },
  {
   "cell_type": "code",
   "execution_count": 259,
   "metadata": {
    "vscode": {
     "languageId": "shellscript"
    }
   },
   "outputs": [],
   "source": [
    "# Sample data for users\n",
    "users_data = [\n",
    "    {\"user_id\": 1, \"name\": \"Alice\", \"city\": \"New York\"},\n",
    "    {\"user_id\": 2, \"name\": \"Bob\", \"city\": \"San Francisco\"},\n",
    "    {\"user_id\": 3, \"name\": \"Charlie\", \"city\": \"Los Angeles\"},\n",
    "]"
   ]
  },
  {
   "cell_type": "code",
   "execution_count": 260,
   "metadata": {
    "vscode": {
     "languageId": "shellscript"
    }
   },
   "outputs": [],
   "source": [
    "\n",
    "# Sample data for orders\n",
    "orders_data = [\n",
    "    {\"order_id\": 1, \"user_id\": 1, \"product\": \"Laptop\"},\n",
    "    {\"order_id\": 2, \"user_id\": 2, \"product\": \"Phone\"},\n",
    "    {\"order_id\": 3, \"user_id\": 1, \"product\": \"Monitor\"},\n",
    "    {\"order_id\": 4, \"user_id\": 3, \"product\": \"Keyboard\"},\n",
    "]"
   ]
  },
  {
   "cell_type": "code",
   "execution_count": 261,
   "metadata": {
    "vscode": {
     "languageId": "shellscript"
    }
   },
   "outputs": [
    {
     "data": {
      "text/plain": [
       "InsertManyResult([ObjectId('67101138ce75d70ae756b57f'), ObjectId('67101138ce75d70ae756b580'), ObjectId('67101138ce75d70ae756b581'), ObjectId('67101138ce75d70ae756b582')], acknowledged=True)"
      ]
     },
     "execution_count": 261,
     "metadata": {},
     "output_type": "execute_result"
    }
   ],
   "source": [
    "# Insert sample data\n",
    "users_collection.insert_many(users_data)\n",
    "orders_collection.insert_many(orders_data)"
   ]
  },
  {
   "cell_type": "code",
   "execution_count": 262,
   "metadata": {
    "vscode": {
     "languageId": "shellscript"
    }
   },
   "outputs": [
    {
     "name": "stdout",
     "output_type": "stream",
     "text": [
      "{'_id': ObjectId('67101138ce75d70ae756b57f'), 'order_id': 1, 'user_id': 1, 'product': 'Laptop', 'user_info': {'_id': ObjectId('67101138ce75d70ae756b57c'), 'user_id': 1, 'name': 'Alice', 'city': 'New York'}}\n",
      "{'_id': ObjectId('67101138ce75d70ae756b580'), 'order_id': 2, 'user_id': 2, 'product': 'Phone', 'user_info': {'_id': ObjectId('67101138ce75d70ae756b57d'), 'user_id': 2, 'name': 'Bob', 'city': 'San Francisco'}}\n",
      "{'_id': ObjectId('67101138ce75d70ae756b581'), 'order_id': 3, 'user_id': 1, 'product': 'Monitor', 'user_info': {'_id': ObjectId('67101138ce75d70ae756b57c'), 'user_id': 1, 'name': 'Alice', 'city': 'New York'}}\n",
      "{'_id': ObjectId('67101138ce75d70ae756b582'), 'order_id': 4, 'user_id': 3, 'product': 'Keyboard', 'user_info': {'_id': ObjectId('67101138ce75d70ae756b57e'), 'user_id': 3, 'name': 'Charlie', 'city': 'Los Angeles'}}\n"
     ]
    }
   ],
   "source": [
    "#===========================> Joints : $lookup operator to join the orders collection with the users collection based on user_id.\n",
    "\n",
    "# Perform a join-like operation using $lookup\n",
    "pipeline = [\n",
    "    {\n",
    "        \"$lookup\": {\n",
    "            \"from\": \"users\",           # Collection to join\n",
    "            \"localField\": \"user_id\",   # Field from orders collection\n",
    "            \"foreignField\": \"user_id\",  # Field from users collection\n",
    "            \"as\": \"user_info\"          # Output field for joined data\n",
    "        }\n",
    "    },\n",
    "    { \"$unwind\": \"$user_info\" }  # Flatten the user_info array\n",
    "]\n",
    "\n",
    "# Execute the aggregation\n",
    "result = orders_collection.aggregate(pipeline)\n",
    "\n",
    "# Display the results\n",
    "for document in result:\n",
    "    print(document)"
   ]
  },
  {
   "cell_type": "code",
   "execution_count": null,
   "metadata": {
    "vscode": {
     "languageId": "shellscript"
    }
   },
   "outputs": [],
   "source": []
  },
  {
   "cell_type": "code",
   "execution_count": null,
   "metadata": {
    "vscode": {
     "languageId": "shellscript"
    }
   },
   "outputs": [],
   "source": []
  },
  {
   "cell_type": "code",
   "execution_count": null,
   "metadata": {
    "vscode": {
     "languageId": "shellscript"
    }
   },
   "outputs": [],
   "source": []
  },
  {
   "cell_type": "code",
   "execution_count": null,
   "metadata": {
    "vscode": {
     "languageId": "shellscript"
    }
   },
   "outputs": [],
   "source": []
  },
  {
   "cell_type": "code",
   "execution_count": null,
   "metadata": {
    "vscode": {
     "languageId": "shellscript"
    }
   },
   "outputs": [],
   "source": []
  },
  {
   "cell_type": "code",
   "execution_count": null,
   "metadata": {
    "vscode": {
     "languageId": "shellscript"
    }
   },
   "outputs": [],
   "source": []
  },
  {
   "cell_type": "code",
   "execution_count": null,
   "metadata": {
    "vscode": {
     "languageId": "shellscript"
    }
   },
   "outputs": [],
   "source": []
  },
  {
   "cell_type": "code",
   "execution_count": null,
   "metadata": {
    "vscode": {
     "languageId": "shellscript"
    }
   },
   "outputs": [],
   "source": []
  },
  {
   "cell_type": "code",
   "execution_count": null,
   "metadata": {
    "vscode": {
     "languageId": "shellscript"
    }
   },
   "outputs": [],
   "source": []
  },
  {
   "cell_type": "code",
   "execution_count": null,
   "metadata": {
    "vscode": {
     "languageId": "shellscript"
    }
   },
   "outputs": [],
   "source": []
  },
  {
   "cell_type": "code",
   "execution_count": null,
   "metadata": {
    "vscode": {
     "languageId": "shellscript"
    }
   },
   "outputs": [],
   "source": []
  },
  {
   "cell_type": "code",
   "execution_count": null,
   "metadata": {
    "vscode": {
     "languageId": "shellscript"
    }
   },
   "outputs": [],
   "source": []
  },
  {
   "cell_type": "code",
   "execution_count": null,
   "metadata": {
    "vscode": {
     "languageId": "shellscript"
    }
   },
   "outputs": [],
   "source": []
  },
  {
   "cell_type": "code",
   "execution_count": null,
   "metadata": {
    "vscode": {
     "languageId": "shellscript"
    }
   },
   "outputs": [],
   "source": []
  },
  {
   "cell_type": "code",
   "execution_count": 263,
   "metadata": {
    "vscode": {
     "languageId": "shellscript"
    }
   },
   "outputs": [],
   "source": [
    "# Close the Connection: After you're done interacting with MongoDB, it's a good practice to close the connection.\n",
    "\n",
    "# client.close()"
   ]
  }
 ],
 "metadata": {
  "kernelspec": {
   "display_name": "Developer",
   "language": "python",
   "name": "python3"
  },
  "language_info": {
   "codemirror_mode": {
    "name": "ipython",
    "version": 3
   },
   "file_extension": ".py",
   "mimetype": "text/x-python",
   "name": "python",
   "nbconvert_exporter": "python",
   "pygments_lexer": "ipython3",
   "version": "3.11.8"
  }
 },
 "nbformat": 4,
 "nbformat_minor": 2
}
